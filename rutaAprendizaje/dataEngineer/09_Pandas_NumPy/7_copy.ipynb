{
 "cells": [
  {
   "cell_type": "code",
   "execution_count": 1,
   "metadata": {},
   "outputs": [],
   "source": [
    "import numpy as np"
   ]
  },
  {
   "cell_type": "code",
   "execution_count": 4,
   "metadata": {},
   "outputs": [
    {
     "data": {
      "text/plain": [
       "array([0, 1, 2, 3, 4, 5])"
      ]
     },
     "execution_count": 4,
     "metadata": {},
     "output_type": "execute_result"
    }
   ],
   "source": [
    "v_arreglo = np.arange(0, 11)\n",
    "v_arreglo\n",
    "#array([ 0,  1,  2,  3,  4,  5,  6,  7,  8,  9, 10])\n",
    "temp_arreglo = v_arreglo[0:6]\n",
    "temp_arreglo\n",
    "#array([0, 1, 2, 3, 4, 5])\n",
    "\n",
    "temp_arreglo[:] = 0\n",
    "temp_arreglo\n",
    "#array([ 0,  0,  0,  0,  0,  0,  6,  7,  8,  9, 10])\n",
    "#las posiciones de temp_arreglo siguen haciendo referencia a v_arreglo"
   ]
  },
  {
   "cell_type": "code",
   "execution_count": 12,
   "metadata": {},
   "outputs": [
    {
     "data": {
      "text/plain": [
       "array([100, 100, 100, 100, 100, 100, 100, 100, 100, 100, 100])"
      ]
     },
     "execution_count": 12,
     "metadata": {},
     "output_type": "execute_result"
    }
   ],
   "source": [
    "v_arreglo = np.arange(0, 11)\n",
    "v_arreglo_copia = v_arreglo.copy()\n",
    "v_arreglo_copia\n",
    "\n",
    "v_arreglo_copia[:] = 100\n",
    "v_arreglo_copia\n",
    "#array([100, 100, 100, 100, 100, 100, 100, 100, 100, 100, 100])\n",
    "\n",
    "v_arreglo\n",
    "#array([ 0,  1,  2,  3,  4,  5,  6,  7,  8,  9, 10])"
   ]
  }
 ],
 "metadata": {
  "interpreter": {
   "hash": "916dbcbb3f70747c44a77c7bcd40155683ae19c65e1c03b4aa3499c5328201f1"
  },
  "kernelspec": {
   "display_name": "Python 3.10.6 64-bit",
   "language": "python",
   "name": "python3"
  },
  "language_info": {
   "codemirror_mode": {
    "name": "ipython",
    "version": 3
   },
   "file_extension": ".py",
   "mimetype": "text/x-python",
   "name": "python",
   "nbconvert_exporter": "python",
   "pygments_lexer": "ipython3",
   "version": "3.10.6"
  },
  "orig_nbformat": 4
 },
 "nbformat": 4,
 "nbformat_minor": 2
}
