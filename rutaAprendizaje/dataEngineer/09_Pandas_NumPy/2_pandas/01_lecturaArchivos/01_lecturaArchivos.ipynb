import pandas as pd# df significa dataframe

# leer el archivo csv
df_libro = pd.read_csv('/home/jcgarrido730/prueba_jupyter/bestsellers-with-categories.csv')

# definir el separador de las columnas
pd.read_csv('/home/jcgarrido730/prueba_jupyter/bestsellers-with-categories.csv', sep = ' , ')

# indica en que fila inician los datos
pd.read_csv('/home/jcgarrido730/prueba_jupyter/bestsellers-with-categories.csv', header = 2)

# obtener los nombre de las columnas
df_libro.columns

# colocar manualmente el nombre de las columnas
pd.read_csv('/home/jcgarrido730/prueba_jupyter/bestsellers-with-categories.csv', header = 0, names = ['Names', 'Author', 'UserRating', 'Reviews', 'Price', 'Year', 'Genre'])